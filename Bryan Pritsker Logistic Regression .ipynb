{
 "cells": [
  {
   "cell_type": "code",
   "execution_count": 1,
   "id": "51e630b5",
   "metadata": {},
   "outputs": [],
   "source": [
    "import numpy as np\n",
    "import pandas as pd\n",
    "import matplotlib.pyplot as plt\n",
    "from sklearn.model_selection import train_test_split\n",
    "from sklearn.metrics import accuracy_score"
   ]
  },
  {
   "cell_type": "code",
   "execution_count": 2,
   "id": "37569a59",
   "metadata": {},
   "outputs": [
    {
     "data": {
      "text/html": [
       "<div>\n",
       "<style scoped>\n",
       "    .dataframe tbody tr th:only-of-type {\n",
       "        vertical-align: middle;\n",
       "    }\n",
       "\n",
       "    .dataframe tbody tr th {\n",
       "        vertical-align: top;\n",
       "    }\n",
       "\n",
       "    .dataframe thead th {\n",
       "        text-align: right;\n",
       "    }\n",
       "</style>\n",
       "<table border=\"1\" class=\"dataframe\">\n",
       "  <thead>\n",
       "    <tr style=\"text-align: right;\">\n",
       "      <th></th>\n",
       "      <th>0</th>\n",
       "      <th>1</th>\n",
       "      <th>2</th>\n",
       "      <th>3</th>\n",
       "      <th>4</th>\n",
       "      <th>5</th>\n",
       "      <th>6</th>\n",
       "      <th>7</th>\n",
       "      <th>8</th>\n",
       "    </tr>\n",
       "  </thead>\n",
       "  <tbody>\n",
       "    <tr>\n",
       "      <th>0</th>\n",
       "      <td>6</td>\n",
       "      <td>148</td>\n",
       "      <td>72</td>\n",
       "      <td>35</td>\n",
       "      <td>0</td>\n",
       "      <td>33.6</td>\n",
       "      <td>0.627</td>\n",
       "      <td>50</td>\n",
       "      <td>1</td>\n",
       "    </tr>\n",
       "    <tr>\n",
       "      <th>1</th>\n",
       "      <td>1</td>\n",
       "      <td>85</td>\n",
       "      <td>66</td>\n",
       "      <td>29</td>\n",
       "      <td>0</td>\n",
       "      <td>26.6</td>\n",
       "      <td>0.351</td>\n",
       "      <td>31</td>\n",
       "      <td>0</td>\n",
       "    </tr>\n",
       "    <tr>\n",
       "      <th>2</th>\n",
       "      <td>8</td>\n",
       "      <td>183</td>\n",
       "      <td>64</td>\n",
       "      <td>0</td>\n",
       "      <td>0</td>\n",
       "      <td>23.3</td>\n",
       "      <td>0.672</td>\n",
       "      <td>32</td>\n",
       "      <td>1</td>\n",
       "    </tr>\n",
       "    <tr>\n",
       "      <th>3</th>\n",
       "      <td>1</td>\n",
       "      <td>89</td>\n",
       "      <td>66</td>\n",
       "      <td>23</td>\n",
       "      <td>94</td>\n",
       "      <td>28.1</td>\n",
       "      <td>0.167</td>\n",
       "      <td>21</td>\n",
       "      <td>0</td>\n",
       "    </tr>\n",
       "    <tr>\n",
       "      <th>4</th>\n",
       "      <td>0</td>\n",
       "      <td>137</td>\n",
       "      <td>40</td>\n",
       "      <td>35</td>\n",
       "      <td>168</td>\n",
       "      <td>43.1</td>\n",
       "      <td>2.288</td>\n",
       "      <td>33</td>\n",
       "      <td>1</td>\n",
       "    </tr>\n",
       "  </tbody>\n",
       "</table>\n",
       "</div>"
      ],
      "text/plain": [
       "   0    1   2   3    4     5      6   7  8\n",
       "0  6  148  72  35    0  33.6  0.627  50  1\n",
       "1  1   85  66  29    0  26.6  0.351  31  0\n",
       "2  8  183  64   0    0  23.3  0.672  32  1\n",
       "3  1   89  66  23   94  28.1  0.167  21  0\n",
       "4  0  137  40  35  168  43.1  2.288  33  1"
      ]
     },
     "execution_count": 2,
     "metadata": {},
     "output_type": "execute_result"
    }
   ],
   "source": [
    "df = pd.read_csv(\"pima-indians-diabetes.csv\", header = None)\n",
    "df.head()"
   ]
  },
  {
   "cell_type": "code",
   "execution_count": 3,
   "id": "57d400e0",
   "metadata": {},
   "outputs": [],
   "source": [
    "X = df.to_numpy()\n",
    "y = X[:,-1]\n",
    "X = X[:, :-1]"
   ]
  },
  {
   "cell_type": "code",
   "execution_count": 4,
   "id": "d2b594bd",
   "metadata": {},
   "outputs": [
    {
     "data": {
      "text/plain": [
       "array([[  6.   , 148.   ,  72.   , ...,  33.6  ,   0.627,  50.   ],\n",
       "       [  1.   ,  85.   ,  66.   , ...,  26.6  ,   0.351,  31.   ],\n",
       "       [  8.   , 183.   ,  64.   , ...,  23.3  ,   0.672,  32.   ],\n",
       "       ...,\n",
       "       [  5.   , 121.   ,  72.   , ...,  26.2  ,   0.245,  30.   ],\n",
       "       [  1.   , 126.   ,  60.   , ...,  30.1  ,   0.349,  47.   ],\n",
       "       [  1.   ,  93.   ,  70.   , ...,  30.4  ,   0.315,  23.   ]])"
      ]
     },
     "execution_count": 4,
     "metadata": {},
     "output_type": "execute_result"
    }
   ],
   "source": [
    "X"
   ]
  },
  {
   "cell_type": "code",
   "execution_count": 5,
   "id": "3467a914",
   "metadata": {},
   "outputs": [
    {
     "data": {
      "text/plain": [
       "(768,)"
      ]
     },
     "execution_count": 5,
     "metadata": {},
     "output_type": "execute_result"
    }
   ],
   "source": [
    "y.shape"
   ]
  },
  {
   "cell_type": "code",
   "execution_count": 6,
   "id": "c03d653e",
   "metadata": {},
   "outputs": [
    {
     "data": {
      "text/plain": [
       "768"
      ]
     },
     "execution_count": 6,
     "metadata": {},
     "output_type": "execute_result"
    }
   ],
   "source": [
    "len(y)"
   ]
  },
  {
   "cell_type": "code",
   "execution_count": 7,
   "id": "631dfceb",
   "metadata": {},
   "outputs": [],
   "source": [
    "# Normalize X\n",
    "X_normalized = (X - X.mean()) / X.std()"
   ]
  },
  {
   "cell_type": "code",
   "execution_count": 8,
   "id": "897bd0cb",
   "metadata": {},
   "outputs": [],
   "source": [
    "def sigmoid(z):\n",
    "    return 1.0 / (1 + np.exp(-z))"
   ]
  },
  {
   "cell_type": "code",
   "execution_count": 9,
   "id": "ff768e40",
   "metadata": {},
   "outputs": [],
   "source": [
    "def cost_function(X, y, y_hat):\n",
    "    m = X.shape[0]\n",
    "    cost = (1 / m) * (np.dot(-y.T, np.log(y_hat)) - np.dot((1 - y).T, np.log(1 - y_hat)))\n",
    "    return cost"
   ]
  },
  {
   "cell_type": "code",
   "execution_count": 10,
   "id": "4357ea6d",
   "metadata": {},
   "outputs": [],
   "source": [
    "def log_regression_gradient(X, y, learning_rate, num_iterations):\n",
    "    m, n = X.shape  #m is the number of instances, n is the number of features\n",
    "    weights = np.zeros((n,1))\n",
    "    b = 0\n",
    "    error_lst = []\n",
    "    accuracy_lst = []\n",
    "\n",
    "    y = y.reshape(m,1)\n",
    "\n",
    "    for i in range(num_iterations):\n",
    "        y_hat = sigmoid(np.dot(X, weights) + b)\n",
    "        #y_hat_lst.append(y_hat)\n",
    "        \n",
    "        #Gradient Descent:\n",
    "        dw = (1/m)* np.dot(X.T, (y_hat - y))\n",
    "        db = (1/m)* np.sum((y_hat - y))\n",
    "\n",
    "        weights = weights - (learning_rate * dw)    \n",
    "        b = b - (learning_rate * db)\n",
    "\n",
    "        cost = cost_function(X, y, sigmoid(np.dot(X, weights) + b))\n",
    "        error_lst.append(cost[0][0])   #we do cost[0][0] since cost contains one number but it's inside a 2d array\n",
    "\n",
    "        y_predictions = np.array([1 if pred > 0.5 else 0 for pred in y_hat])\n",
    "        accuracy = accuracy_score(y, y_predictions)\n",
    "        accuracy_lst.append(accuracy)\n",
    "\n",
    "    return weights, b, error_lst, accuracy_lst"
   ]
  },
  {
   "cell_type": "code",
   "execution_count": 11,
   "id": "d0833ca4",
   "metadata": {},
   "outputs": [],
   "source": [
    "def predict(X, weights, b):\n",
    "    y_hat = sigmoid(np.dot(X, weights) + b)\n",
    "    return np.array([1 if pred > 0.5 else 0 for pred in y_hat])\n"
   ]
  },
  {
   "cell_type": "code",
   "execution_count": 12,
   "id": "75a734f7",
   "metadata": {},
   "outputs": [],
   "source": [
    "# Function that calculates metrics\n",
    "def calculate_metrics(y_actual, y_predicted):\n",
    "    accuracy = accuracy_score(y_actual, y_predicted)\n",
    "    precision = np.sum((y_actual == 1) & (y_predicted == 1)) / np.sum(y_predicted == 1)\n",
    "    recall = np.sum((y_actual == 1) & (y_predicted == 1)) / np.sum(y_actual == 1)\n",
    "    f1 = 2 * (precision * recall) / (precision + recall)\n",
    "    return accuracy, precision, recall, f1"
   ]
  },
  {
   "cell_type": "code",
   "execution_count": 13,
   "id": "6ce393bb",
   "metadata": {},
   "outputs": [],
   "source": [
    "X_train, X_test, y_train, y_test = train_test_split(X_normalized, y, test_size = 0.2, random_state = 100)"
   ]
  },
  {
   "cell_type": "code",
   "execution_count": 14,
   "id": "097a6fe9",
   "metadata": {},
   "outputs": [
    {
     "data": {
      "text/plain": [
       "array([[-0.59934916,  2.00459573,  0.66836085, ..., -0.29612663,\n",
       "        -0.76754344,  0.15442436],\n",
       "       [-0.70213646,  1.73049626,  0.68549207, ..., -0.27556917,\n",
       "        -0.76742352, -0.30811848],\n",
       "       [-0.73639889,  1.11377248,  0.49704869, ..., -0.21560991,\n",
       "        -0.75870373, -0.30811848],\n",
       "       ...,\n",
       "       [-0.70213646,  0.80541058,  0.59983599, ..., -0.04772399,\n",
       "        -0.76660122, -0.27385605],\n",
       "       [-0.73639889,  1.14803491,  0.35999896, ..., -0.34238091,\n",
       "        -0.76540204, -0.35951213],\n",
       "       [-0.73639889,  0.39426139,  0.42852382, ..., -0.34238091,\n",
       "        -0.76745778, -0.34238091]])"
      ]
     },
     "execution_count": 14,
     "metadata": {},
     "output_type": "execute_result"
    }
   ],
   "source": [
    "X_train"
   ]
  },
  {
   "cell_type": "code",
   "execution_count": 15,
   "id": "ac91498d",
   "metadata": {},
   "outputs": [],
   "source": [
    "weights, b, error_lst, accuracy_lst = log_regression_gradient(X_train, y_train, 0.005, 70000)"
   ]
  },
  {
   "cell_type": "code",
   "execution_count": 16,
   "id": "a7867b0e",
   "metadata": {},
   "outputs": [
    {
     "data": {
      "text/plain": [
       "(array([[ 1.4191343 ],\n",
       "        [ 2.2574827 ],\n",
       "        [-0.4162313 ],\n",
       "        [ 0.36782746],\n",
       "        [-0.05441587],\n",
       "        [ 2.93001815],\n",
       "        [ 0.77831296],\n",
       "        [ 1.55337984]]),\n",
       " -0.8585815827293105)"
      ]
     },
     "execution_count": 16,
     "metadata": {},
     "output_type": "execute_result"
    }
   ],
   "source": [
    "weights, b"
   ]
  },
  {
   "cell_type": "code",
   "execution_count": 17,
   "id": "8baa374d",
   "metadata": {},
   "outputs": [
    {
     "name": "stdout",
     "output_type": "stream",
     "text": [
      "Training Metrics:\n",
      "Accuracy: 77.04%\n",
      "Precision: 0.73\n",
      "Recall: 0.55\n",
      "F1 Score: 0.63\n",
      "\n",
      "\n",
      "Testing Metrics:\n",
      "Accuracy: 74.03%\n",
      "Precision: 0.66\n",
      "Recall: 0.51\n",
      "F1 Score: 0.57\n"
     ]
    }
   ],
   "source": [
    "# Calculate metrics for training set\n",
    "y_train_predict = predict(X_train, weights, b)\n",
    "train_acc, train_prec, train_rec, train_f1 = calculate_metrics(y_train, y_train_predict)\n",
    "\n",
    "# Convert outputs to binary predictions for testing set\n",
    "y_test_predict = predict(X_test, weights, b)\n",
    "\n",
    "# Calculate metrics for testing set\n",
    "test_acc, test_prec, test_rec, test_f1 = calculate_metrics(y_test, y_test_predict)\n",
    "\n",
    "# Reporting results\n",
    "print(\"Training Metrics:\")\n",
    "print(f\"Accuracy: {train_acc*100:.2f}%\")\n",
    "print(f\"Precision: {train_prec:.2f}\")\n",
    "print(f\"Recall: {train_rec:.2f}\")\n",
    "print(f\"F1 Score: {train_f1:.2f}\")\n",
    "\n",
    "print(\"\\n\\nTesting Metrics:\")\n",
    "print(f\"Accuracy: {test_acc*100:.2f}%\")\n",
    "print(f\"Precision: {test_prec:.2f}\")\n",
    "print(f\"Recall: {test_rec:.2f}\")\n",
    "print(f\"F1 Score: {test_f1:.2f}\")"
   ]
  },
  {
   "cell_type": "code",
   "execution_count": 18,
   "id": "a5607c53",
   "metadata": {},
   "outputs": [
    {
     "data": {
      "text/html": [
       "<div>\n",
       "<style scoped>\n",
       "    .dataframe tbody tr th:only-of-type {\n",
       "        vertical-align: middle;\n",
       "    }\n",
       "\n",
       "    .dataframe tbody tr th {\n",
       "        vertical-align: top;\n",
       "    }\n",
       "\n",
       "    .dataframe thead th {\n",
       "        text-align: right;\n",
       "    }\n",
       "</style>\n",
       "<table border=\"1\" class=\"dataframe\">\n",
       "  <thead>\n",
       "    <tr style=\"text-align: right;\">\n",
       "      <th></th>\n",
       "      <th>Iteration</th>\n",
       "      <th>Error</th>\n",
       "    </tr>\n",
       "  </thead>\n",
       "  <tbody>\n",
       "    <tr>\n",
       "      <th>0</th>\n",
       "      <td>1</td>\n",
       "      <td>0.692805</td>\n",
       "    </tr>\n",
       "    <tr>\n",
       "      <th>1</th>\n",
       "      <td>2</td>\n",
       "      <td>0.692465</td>\n",
       "    </tr>\n",
       "    <tr>\n",
       "      <th>2</th>\n",
       "      <td>3</td>\n",
       "      <td>0.692128</td>\n",
       "    </tr>\n",
       "    <tr>\n",
       "      <th>3</th>\n",
       "      <td>4</td>\n",
       "      <td>0.691793</td>\n",
       "    </tr>\n",
       "    <tr>\n",
       "      <th>4</th>\n",
       "      <td>5</td>\n",
       "      <td>0.691461</td>\n",
       "    </tr>\n",
       "    <tr>\n",
       "      <th>...</th>\n",
       "      <td>...</td>\n",
       "      <td>...</td>\n",
       "    </tr>\n",
       "    <tr>\n",
       "      <th>69995</th>\n",
       "      <td>69996</td>\n",
       "      <td>0.475929</td>\n",
       "    </tr>\n",
       "    <tr>\n",
       "      <th>69996</th>\n",
       "      <td>69997</td>\n",
       "      <td>0.475929</td>\n",
       "    </tr>\n",
       "    <tr>\n",
       "      <th>69997</th>\n",
       "      <td>69998</td>\n",
       "      <td>0.475929</td>\n",
       "    </tr>\n",
       "    <tr>\n",
       "      <th>69998</th>\n",
       "      <td>69999</td>\n",
       "      <td>0.475929</td>\n",
       "    </tr>\n",
       "    <tr>\n",
       "      <th>69999</th>\n",
       "      <td>70000</td>\n",
       "      <td>0.475929</td>\n",
       "    </tr>\n",
       "  </tbody>\n",
       "</table>\n",
       "<p>70000 rows × 2 columns</p>\n",
       "</div>"
      ],
      "text/plain": [
       "       Iteration     Error\n",
       "0              1  0.692805\n",
       "1              2  0.692465\n",
       "2              3  0.692128\n",
       "3              4  0.691793\n",
       "4              5  0.691461\n",
       "...          ...       ...\n",
       "69995      69996  0.475929\n",
       "69996      69997  0.475929\n",
       "69997      69998  0.475929\n",
       "69998      69999  0.475929\n",
       "69999      70000  0.475929\n",
       "\n",
       "[70000 rows x 2 columns]"
      ]
     },
     "execution_count": 18,
     "metadata": {},
     "output_type": "execute_result"
    }
   ],
   "source": [
    "iteration_list = np.arange(1, 70001)\n",
    "\n",
    "results_df = pd.DataFrame({\"Iteration\": iteration_list, \"Error\": error_lst})\n",
    "results_df"
   ]
  },
  {
   "cell_type": "code",
   "execution_count": 19,
   "id": "1a629577",
   "metadata": {},
   "outputs": [
    {
     "data": {
      "image/png": "[encoded data removed]",
      "text/plain": [
       "<Figure size 800x700 with 1 Axes>"
      ]
     },
     "metadata": {},
     "output_type": "display_data"
    },
    {
     "data": {
      "image/png": "[encoded data removed]",
      "text/plain": [
       "<Figure size 800x700 with 1 Axes>"
      ]
     },
     "metadata": {},
     "output_type": "display_data"
    }
   ],
   "source": [
    "plt.figure(figsize = (8, 7))\n",
    "plt.title(\"Error of Logistic Regression Training Set\", fontsize= 14.0, fontweight='bold')\n",
    "plt.xlabel(\"Iteration\", labelpad = 10, fontsize= 12.0)\n",
    "plt.ylabel(\"Error\", labelpad = 20, fontsize= 12.0)\n",
    "plt.plot(results_df[\"Iteration\"], results_df[\"Error\"], color = \"darkred\")\n",
    "plt.show();\n",
    "\n",
    "plt.figure(figsize = (8, 7))\n",
    "plt.title(\"Accuracy of Logistic Regression Training Set\", fontsize= 14.0, fontweight='bold')\n",
    "plt.xlabel(\"Iteration\", labelpad = 10, fontsize= 12.0)\n",
    "plt.ylabel(\"Accuracy\", labelpad = 20, fontsize= 12.0)\n",
    "plt.plot(results_df[\"Iteration\"], accuracy_lst, color = \"forestgreen\")\n",
    "plt.show();"
   ]
  }
 ],
 "metadata": {
  "kernelspec": {
   "display_name": "Python 3 (ipykernel)",
   "language": "python",
   "name": "python3"
  },
  "language_info": {
   "codemirror_mode": {
    "name": "ipython",
    "version": 3
   },
   "file_extension": ".py",
   "mimetype": "text/x-python",
   "name": "python",
   "nbconvert_exporter": "python",
   "pygments_lexer": "ipython3",
   "version": "3.10.9"
  }
 },
 "nbformat": 4,
 "nbformat_minor": 5
}
